{
 "cells": [
  {
   "cell_type": "markdown",
   "id": "fe70c2e2-7680-4e53-a191-260ce128948c",
   "metadata": {},
   "source": [
    "# GenAI Essentials\n",
    "## ML Introduction\n",
    "- Vectors and Embeddings\n",
    "- RNNs\n",
    "- CNNs\n",
    "- Transormer Architectures\n",
    "- Attention\n",
    "- Positional Encoding"
   ]
  },
  {
   "cell_type": "markdown",
   "id": "0ef65c31-cc61-4142-ae62-6d89a91a3275",
   "metadata": {},
   "source": [
    "# What is AI\n",
    "- __Artificial Intelligence__: Machines that perform jobs that mimic human behavior\n",
    "- __Machine Learning__: Machines that get better at a task without expicit programming \n",
    "- __Deep Learning__: Machines that have an artifical neural network to solve complex problems.\n",
    "- __What is GenAI__: Generative AI is a specialized subset of AI taht generates out content eg: Image, Video, Text, Audio.\n"
   ]
  },
  {
   "cell_type": "markdown",
   "id": "36133da8-3789-40c8-ad13-575b4fb6d822",
   "metadata": {},
   "source": [
    "# AI VS GenAI\n",
    "- AI is computer systems that _perform tasks typically requiring human intelligence_.\n",
    "    - Problem-solving\n",
    "    - Decision-making\n",
    "    - Understaning natural language\n",
    "    - Recognizing speech and images\n",
    "\n",
    "    - the goal is to interprt, analyze, and respond to human actions. To simulate human intelligenece in machines.\n",
    "        - Simulate: mimic aspects, resembles behaviour\n",
    "        - Emulate: replicates exact processes and mechanisms.\n",
    "    - AI applications are vast and include areas like:\n",
    "        - expert systems\n",
    "        - natural language processing\n",
    "        - speech recognition\n",
    "        - robotics\n",
    "    - AI is used in various industries for tasks such as:\n",
    "        - B2C: customer service cahtbots\n",
    "        - Ecommerce: recommendation systems\n",
    "        - Auto: autonomous vehicles\n",
    "        - Medical: medical diagnosis\n",
    "\n",
    "- Generative AI (GenAI) is: subset of AI that focuses on _creating new content or data_ that is novel and realistic. It can interpret or analyze data but also generates new data itself.\n",
    "    - It often involves advanced machine learning techniques:\n",
    "        - Generative Adversrial Networks (GANs)\n",
    "        - Variational Autoencoders (VAEs)\n",
    "        - Transormer models eg GPT\n",
    "    - Generative AI has multiple modealities:\n",
    "        - Vision: realistic images and videos\n",
    "        - Text: generating human-like text (LLMs)\n",
    "        - Audio: composing music\n",
    "        - Molecular: Drug discovery via genomic data\n",
    "    - __Large Language Models (LLMs) is a subset of GenAI__\n",
    "\n",
    "    | Compare | AI | GenAI |\n",
    "    |-|-|--|\n",
    "    | Functionality | Foucses on understanding and decision-making | Creating new, original outputs |\n",
    "    | Data Handling | Analyzes and makes decisions based on existing data | Uses existing data to generate new, unseen outputs |\n",
    "    | Applications | Spans accross various sectors, includeing data analysis, automation, natural lanaguage processing, and healthchare. | Creative and innovative, focusing on content creation, synthetic data generation, deepfakes, and design. |"
   ]
  },
  {
   "cell_type": "markdown",
   "id": "36d9c47b-91a3-44f8-9bbc-15665a052829",
   "metadata": {},
   "source": [
    "# Tools and software\n",
    "- [Hugging Face](https://huggingface.co/)\n",
    "- [test](test.net)\n",
    "- \n"
   ]
  },
  {
   "cell_type": "markdown",
   "id": "f68caa3a-cb70-428d-bdbe-b46fd19e0bd6",
   "metadata": {},
   "source": [
    "# What is Natural Language Processing (NLP)?\n",
    "- NLP is ML technique that can _understand the xontext of a corpus (a body of related text).\n",
    "- NLP enables you to:\n",
    "\n",
    "    - Analyze and interpret text within documents, email messages\n",
    "    - Interpret or contextualise spoken token e.g., sentiment analysis\n",
    "    - Synthesize speech e.g., a voice assistance talking to you\n",
    "    - Automatically translate spoken or written phrases and sentences between languages\n",
    "    - Interpret spoken or written commands and determine appropriate actions\n",
    "\n",
    "|Text Wrangling and Pre-Processing | <==> | Language Understanding (Sturcture / Syntax) | <==> | Processing and Functionality|\n",
    "|--|--|--|--|--|\n",
    "|Conversion|  | Parts of Speech (POS) Tagging|  |Named Entity Recognition (NER)|\n",
    "|Sanitization|  |Chunking| |N-gram Identification|\n",
    "|Tokenization|  |Depencency parsing| |Sentiment Analysis|\n",
    "|Stemming|  |Constituency parsing|  |Information Extraction|\n",
    "|Lemmatization|  |--|  |Information Retrieval|\n",
    "|--|  |--|  |Questions and Answering|\n",
    "|--|  |--|  |Topic Modeling|\n"
   ]
  },
  {
   "cell_type": "markdown",
   "id": "22e10e8e-eb95-4d94-b188-34ecaaf26b33",
   "metadata": {},
   "source": [
    "# Regression\n",
    "The process of finding a function to correlate a labeld dataset into continuous variable/number.\n",
    "\n",
    "The _distance_ of the vector from the regression line clled an _Error_. Different __Regression algorithms__ use the error to prdict future variables\n",
    "\n",
    "## Regression Algorithms\n",
    "- Mean Squared Error (MSE)\n",
    "- Root Mean Squared Error (RMSE)\n",
    "- Mean Absoulte Error (MAE)"
   ]
  },
  {
   "cell_type": "markdown",
   "id": "085797b8-279b-4763-a923-ec10acd38889",
   "metadata": {},
   "source": [
    "# Classification\n",
    "The process of finding a function to _divide a labeled dataset into classes/categories.\n",
    "\n",
    "(_Predict the category to apply to the provided data_)\n",
    "\n",
    "## Classification Algorithms\n",
    "- Logistic Regression\n",
    "- Decision Tree/Random Forest\n",
    "- Neural Networks\n",
    "- Naive Bayes\n",
    "- K-Nearest Neighbors\n",
    "- Support Vector Machines (SVM)\n"
   ]
  },
  {
   "cell_type": "markdown",
   "id": "7ee45f7c-74fe-4bff-81e9-ca9dfaca50cc",
   "metadata": {},
   "source": [
    "# Clustering\n",
    "the process of grouping unlabeled data baed on similarities and differences.\n",
    "\n",
    "## Clustering Algorithms\n",
    "- K-means\n",
    "- K-medoids\n",
    "- Density Based\n",
    "- Hierarchical\n"
   ]
  },
  {
   "cell_type": "markdown",
   "id": "337be083-097e-406e-811c-15912f29e9ae",
   "metadata": {},
   "source": [
    "# Machine Learning Types\n",
    "## Learning Problems\n",
    "- __Supervised__: using a model to lrearn a mapping between input examples and the target variable.\n",
    "- __Unsupervised__: using model to describe or extract relationships in data\n",
    "- __Reinforcement__: an agent operates in an environment and must learn to operate using feedback\n",
    "## Hybrid Learning Problems\n",
    "- __Semi-Supervised__: training data contains very few labeled examples and alarge number of unlabeled examples\n",
    "- __Self-Supervised__: framed as a supervised learning problem in order to apply supervised learning algorithms\n",
    "- __Multi-Instance__: individual examples are unlabeled: insted, bags or groups of samples are labeled\n",
    "## Statistical Inference\n",
    "- __Inductive__: using evidence to determine the outcome\n",
    "- __Deductive__: using general rules to determine specific outcomes\n",
    "- __Transductive__: used in statistical learning theory to predict specific examples given specific from a specific domain\n",
    "## Learning Techniques\n",
    "- __Multi-Task__: fitting a model on one dataset that addresses multiple related problems.\n",
    "- __Active__: the model is able to query a human user operator during the learning process in order to resolve ambiguity.\n",
    "- __Online__: using the avaliable data and updating the model before a prediction is required or after the last observation.\n",
    "- __Transfer__: a model is first trained on one task, then some or all of the model is used as the staring point for a related task.\n",
    "- __Ensemble__ where two or more models are fit on the same data and the predictions from each model are combined."
   ]
  },
  {
   "cell_type": "markdown",
   "id": "d5b30a18-b55a-49bb-92be-8d584f62aafc",
   "metadata": {},
   "source": [
    "# Division of Machine Learning\n",
    "## Classical Machine Learning \n",
    "Simple data, clear features\n",
    "- Supervised\n",
    "- Unsupervised\n",
    "## Reinforcement Learning\n",
    "When tere is no data\n",
    "- Real-time decisions\n",
    "- Game AI\n",
    "- Learning Tasks\n",
    "- Robot Navigation\n",
    "## Ensemble Mehtods\n",
    "When quality of data is a problem\n",
    "- Bagging\n",
    "- Boosting\n",
    "- Stacking\n",
    "## Neural Networks and Deep Learning\n",
    "When data is complicated and/or features are unclear\n",
    "- Convolutional Neural Networks (CNN)\n",
    "- Recurrent Nerual Networks (RNN)\n",
    "- Generative Adversarial Networks (GAN)\n",
    "- MultiLayer Perceptron (MLP)\n",
    "- Auto Encoders"
   ]
  },
  {
   "cell_type": "markdown",
   "id": "260b04ae-9b5f-475a-b0f5-5f5fd25d8728",
   "metadata": {},
   "source": [
    "# Classical Machine Learning\n",
    "have existed since the early 1950s. Eg. Nearest Neighbor Algorithm was invented in 1967.\n",
    "Most learning problems today are utilizing __Classic ML__\n",
    "\n",
    "## Supervised Learning (SL)\n",
    "Data that has been lable inot categories. _task-driven - make a prediction_.\n",
    "\n",
    "### Classification\n",
    "Outcome: Predict what category does this belong\n",
    "\n",
    "Use Case: Identity Fraud Detection\n",
    "\n",
    "### Regression\n",
    "Outcome: Predict a variable in the future\n",
    "\n",
    "Use Case: Market Forecast\n",
    "\n",
    "## Unsopervised Learning (UL)\n",
    "Data has not been labeled. _data-driven - recognize a structure or pattern_\n",
    "\n",
    "### Clustering\n",
    "Outcome: Group data based on their similarities or differences.\n",
    "\n",
    "Use case: Targeted Marketing.\n",
    "### Association\n",
    "Outcome: Find a relationship between variables through association.\n",
    "\n",
    "Use case: Customer Recommendaton.\n",
    "\n",
    "### Dimensionality Reduction\n",
    "Outcome: Help reduce amount of data (pre-processing)\n",
    "\n",
    "Use case: Big Data Visualization"
   ]
  },
  {
   "cell_type": "code",
   "execution_count": null,
   "id": "bc7f86a6-91c0-444c-8d21-49664770a5f6",
   "metadata": {},
   "outputs": [],
   "source": []
  },
  {
   "cell_type": "code",
   "execution_count": null,
   "id": "e2d6e5fd-4c7e-4825-877e-0fdf2be58df7",
   "metadata": {},
   "outputs": [],
   "source": []
  },
  {
   "cell_type": "code",
   "execution_count": null,
   "id": "5de9ad54-50f0-4949-85c8-4d301f7ff394",
   "metadata": {},
   "outputs": [],
   "source": []
  }
 ],
 "metadata": {
  "kernelspec": {
   "display_name": "Python 3 (ipykernel)",
   "language": "python",
   "name": "python3"
  },
  "language_info": {
   "codemirror_mode": {
    "name": "ipython",
    "version": 3
   },
   "file_extension": ".py",
   "mimetype": "text/x-python",
   "name": "python",
   "nbconvert_exporter": "python",
   "pygments_lexer": "ipython3",
   "version": "3.13.3"
  }
 },
 "nbformat": 4,
 "nbformat_minor": 5
}
